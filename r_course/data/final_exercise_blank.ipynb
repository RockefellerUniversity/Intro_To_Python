{
 "cells": [
  {
   "cell_type": "markdown",
   "metadata": {},
   "source": [
    "# Getting Started with Jupyter Notebooks\n",
    "\n",
    "Jupyter Notebooks are great ways to display your code and/or data in a functional and understandable way. They allow you to combine \"cells\" of Markdown text (like this one) with sections of Python code, which can be evaluated within the notebook to generate printed outputs, plots, or simply to display the code you have written. These Notebooks are a great way to present your results to your collaborators, and to the scientific community at large. \n",
    "\n",
    "To get a feel for this new format, first create a Markdown Cell below this one. You can type something in it, and then press the \"tick\" button on the upper right-hand side, or press Shift + Enter, to evaluate the cell."
   ]
  },
  {
   "cell_type": "markdown",
   "metadata": {},
   "source": [
    "Next, try to create a code cell. Click the \"Add Code Cell\" button, and write some simple code that will produce an output. For example, `print(\"Hello world!\")`. You can evaluate this cell  by clicking the \"play\" button on the left-hand side, or by pressing Shift + Enter."
   ]
  },
  {
   "cell_type": "markdown",
   "metadata": {},
   "source": [
    "Now that you know the basics of Jupyter Notebooks, you can complete the following exercise.\n",
    "\n",
    "# Final Exercise\n",
    "\n",
    "Now, we are going to put together everything we have learned over the last two days to analyze and plot some data about wild salmon. This data is in two files: \n",
    "\n",
    "1. `salmon_catch_data.csv`, contains data about salmon caught on a boat, including the common name, length (mm) and weight (g).\n",
    "2. `salmon_mercury.csv`, contains yearly average mercury contents for several salmon species in ppm.\n",
    "\n",
    "We are first going to deal with the length and weight data. In the cell below, import the data using [`numpy.genfromtxt()`](https://numpy.org/doc/stable/reference/generated/numpy.genfromtxt.html)\n",
    "\n",
    "Hint: Open the data file and see what it looks like (column names, data types, column order)."
   ]
  },
  {
   "cell_type": "code",
   "execution_count": null,
   "metadata": {},
   "outputs": [],
   "source": []
  },
  {
   "cell_type": "markdown",
   "metadata": {},
   "source": [
    "## Counting Salmon Species: Bar Plot\n",
    "\n",
    "In this first exercise, we will be attempting to make a bar plot that looks something like this:\n",
    "\n",
    "![Bar plot of numbers of various salmon species.](final_bar.png)\n",
    "\n",
    "You will notice that this data includes a number of different sub-species of salmon. Use the `set` data type to find all of the unique values in the array of common names. Print this set to see the unique salmon names in this dataset - you should see 4 sub-species appear."
   ]
  },
  {
   "cell_type": "code",
   "execution_count": null,
   "metadata": {},
   "outputs": [],
   "source": []
  },
  {
   "cell_type": "markdown",
   "metadata": {},
   "source": [
    "We want to make a bar plot of the quantities of salmon caught in each sub-species. In the code box below, write some code that counts the number of each sub-species.\n",
    "\n",
    "Hint: There are several ways to do this. One way would be to initialize \"counter\" variables for each sub-species at 0, then use a for loop to iterate through the list of names and add to the appropriate counter in ever loop. A \"slicker\" way of doing this would be to use the [`count()`](https://docs.python.org/3/tutorial/datastructures.html) function - but note that this method applies to lists, not arrays.\n",
    "\n",
    "Save these counts as a list of integers."
   ]
  },
  {
   "cell_type": "code",
   "execution_count": null,
   "metadata": {},
   "outputs": [],
   "source": []
  },
  {
   "cell_type": "markdown",
   "metadata": {},
   "source": [
    "Let's make a bar plot of the count of each type of salmon. For this, we will use the [`bar()`](https://matplotlib.org/stable/api/_as_gen/matplotlib.pyplot.bar.html) function from `matplotlib.pyplot`. First, let's generate the data we want to plot. The first will be a list of the names of salmon (as strings). On the vertical axis, we will use a list of the counts for each species, which we generated previously. Then, make your plot nice: add color, add a title, and add a vertical axis label."
   ]
  },
  {
   "cell_type": "code",
   "execution_count": null,
   "metadata": {},
   "outputs": [],
   "source": []
  },
  {
   "cell_type": "markdown",
   "metadata": {},
   "source": [
    "## Length vs Weight: Scatter Plot\n",
    "\n",
    "Next, we want to make a plot of length vs weight for our salmon. If you take a look at the data, you'll notice that weight data was only collected for a subset of the Chinook salmon caught. This is reflective of real-life scientific data: it may be messy and incomplete, but we can still extract some good information from it. In the end, we will make a plot that looks something like this:\n",
    "\n",
    "![alt text](final_scatter.png)\n",
    "\n",
    "We want to plot the data for the salmon which have both weight AND length data. The weight column of the dataset will have the value `nan` in cases where no weight was measured. Generate new lists for the data you want to plot, and use a for loop to extract the data and append it to your new lists. You can then print the contents of the lists to check if you have extracted the correct information.\n",
    "\n",
    "Hint: the tricky part is figuring out how to separate the \"nan\" values from the numbers. You will note that the \"nan\" values are actually floats (you can check by printing their type). One way you can distinguish the real numerical values from the floats is by using the condition \"> 0\" applied to the elements of the list of weights."
   ]
  },
  {
   "cell_type": "code",
   "execution_count": null,
   "metadata": {},
   "outputs": [],
   "source": []
  },
  {
   "cell_type": "markdown",
   "metadata": {},
   "source": [
    "Now, we want to make a scatter plot of this reduced data using the [`scatter()`](https://matplotlib.org/stable/api/_as_gen/matplotlib.pyplot.scatter.html#matplotlib.pyplot.scatter) function. \n",
    "\n",
    "Remember to add a title and axis labels, and choose a fun color and marker shape!"
   ]
  },
  {
   "cell_type": "code",
   "execution_count": null,
   "metadata": {},
   "outputs": [],
   "source": []
  },
  {
   "cell_type": "markdown",
   "metadata": {},
   "source": [
    "## Salmon Length Distributions: Violin Plot\n",
    "\n",
    "Next, we want to look at the distributions of fish lengths in the separate salmon species. To do so, we will use the [`violinplot()`](https://seaborn.pydata.org/generated/seaborn.violinplot.html) function from `seaborn`.\n",
    "\n",
    "The first thing to do is to prepare our data for plotting. We will need to isolate the length data for each species into a different list so that we can plot them individually. To do this, you can initialize empty lists for each salmon species. Then, using a for loop, sort each element of the list of salmon lengths into the appropriate species list. "
   ]
  },
  {
   "cell_type": "code",
   "execution_count": null,
   "metadata": {},
   "outputs": [],
   "source": []
  },
  {
   "cell_type": "markdown",
   "metadata": {},
   "source": [
    "Now that we have a list of lengths for each species, we can begin to make our plot. It should look something like this:\n",
    "\n",
    " ![alt text](final_violin_1.png)\n",
    "\n",
    " To generate the violin plots of each species in this way, we will need to make a \"list of lists\", i.e. `[steelhead_lengths, coho_lengths, chinook_lengths, sockeye_lengths]`, where each of these elements itself is a list of numbers. If we then use this list of lists as the input for `sns.violinplot()`, we can generate 4 violin plots evenly spaced along the x axis.\n",
    "\n",
    " Give this a try in the code cell below. Remember to specify an axis and color for your violin plot. \n",
    "\n",
    " You can also re-label your x tick values to make them correspond to the salmon species names. To do this, use the [`ax.set_xticks()`](https://matplotlib.org/stable/api/_as_gen/matplotlib.axes.Axes.set_xticks.html#) function. As an input, this function will accept a list of positions (use `[0, 1,2, 3]`) and a list of strings, which will be the corresponding tick labels."
   ]
  },
  {
   "cell_type": "code",
   "execution_count": null,
   "metadata": {},
   "outputs": [],
   "source": []
  },
  {
   "cell_type": "markdown",
   "metadata": {},
   "source": [
    "We can also plot our data on overlapping violin plots, as shown in the plot below:\n",
    "\n",
    "![alt text](final_violin_2.png)\n",
    "\n",
    "To do this, just repeat the `sns.violinplot()` function for each dataset individually. Specify a label for each instance, and then add a legend to your plot.\n",
    "\n",
    "Hint: Adjust the `alpha` (transparency) value so that all datasets are visible."
   ]
  },
  {
   "cell_type": "code",
   "execution_count": null,
   "metadata": {},
   "outputs": [],
   "source": []
  },
  {
   "cell_type": "markdown",
   "metadata": {},
   "source": [
    "## Salmon Mercury Levels: Heatmap Plot \n",
    "\n",
    "Lastly, we are going to use the data in the second data file, `salmon_mercury.csv`, to make a heatmap plot of the progression of salmon mercury levels over time. It should look something like this:\n",
    "\n",
    "![alt text](final_heatmap.png)\n",
    "\n",
    "First, take a look at the structure of the data file and compare it to the plot above. You will note that the previous way we have extracted data from tabular files has been by column. In this case, we want to extract the entire \"table\" as a matrix, or list of lists, which we will then use to generate our 2D heatmap.\n",
    "\n",
    "Hint: you may want to use the `unpack`, `skip_header`, and `usecols` options in [`genfromtxt()`](https://numpy.org/doc/stable/reference/generated/numpy.genfromtxt.html) to your advantage.\n",
    "\n",
    "In the cell below, extract three elements from the csv file:\n",
    "- `data`, a 2D matrix with 5 columns and 4 rows containing the mercury levels\n",
    "- `names`, a list of strings corresponding to the salmon names\n",
    "- `years`, a list of the years in which the measurements were collected, but formatted as strings rather than integers (we will want to use these for axis labels)\n",
    "\n",
    "Print these elements out to ensure you have extracted the right data before proceeding. They should look like this:\n",
    "\n",
    "```\n",
    "[[0.085 0.085 0.086 0.087 0.088]\n",
    " [0.084 0.08  0.082 0.084 0.084]\n",
    " [0.096 0.096 0.094 0.095 0.094]\n",
    " [0.072 0.07  0.075 0.077 0.078]]\n",
    "['Chinook salmon' 'Sockeye salmon' 'Steelhead' 'Coho salmon']\n",
    "['2002' '2006' '2010' '2014' '2018']\n",
    "```"
   ]
  },
  {
   "cell_type": "code",
   "execution_count": null,
   "metadata": {},
   "outputs": [],
   "source": []
  },
  {
   "cell_type": "markdown",
   "metadata": {},
   "source": [
    "Next, we will make the heatmap plot using [`sns.heatmap()`](https://seaborn.pydata.org/generated/seaborn.heatmap.html). Be sure to set a colormap and add a title and axis labels.\n",
    "\n",
    "You can also use the `ax.set_x(y)ticklabels()` function with the `name` and `year` lists to create useful tick labels.\n",
    "\n",
    "Lastly, use `ax.tick_params(axis='y', labelrotation=0)` to make the y-axis tick labels horizontal for readability."
   ]
  },
  {
   "cell_type": "code",
   "execution_count": null,
   "metadata": {},
   "outputs": [],
   "source": []
  }
 ],
 "metadata": {
  "kernelspec": {
   "display_name": "intro_to_python",
   "language": "python",
   "name": "python3"
  },
  "language_info": {
   "codemirror_mode": {
    "name": "ipython",
    "version": 3
   },
   "file_extension": ".py",
   "mimetype": "text/x-python",
   "name": "python",
   "nbconvert_exporter": "python",
   "pygments_lexer": "ipython3",
   "version": "3.12.4"
  }
 },
 "nbformat": 4,
 "nbformat_minor": 2
}
